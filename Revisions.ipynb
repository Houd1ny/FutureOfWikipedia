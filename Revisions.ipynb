{
 "cells": [
  {
   "cell_type": "code",
   "execution_count": null,
   "metadata": {},
   "outputs": [],
   "source": [
    "import urllib\n",
    "import requests\n",
    "import json\n",
    "\n",
    "from urllib.parse import quote\n",
    "\n",
    "HOST = \"https://uk.wikipedia.org/w/api.php\"\n",
    "\n",
    "def GetRevisions(pageTitle):\n",
    "    params = {}\n",
    "    params[\"action\"] = \"query\"\n",
    "    params[\"format\"] = \"json\"\n",
    "    params[\"prop\"] = \"revisions\"\n",
    "    params[\"rvlimit\"] = \"1000\"\n",
    "    \n",
    "    users = []\n",
    "    \n",
    "    while True:\n",
    "        response = urllib.request.urlopen(HOST + \"?\" + urlencode(params) + \"&titles=\" + quote(pageTitle)).read().decode('utf-8')\n",
    "        dataJson = json.loads(response)\n",
    "        pages = dataJson[\"query\"][\"pages\"]\n",
    "        key = list(pages.keys())[0]\n",
    "        revisions = pages[key]['revisions']\n",
    "        users = users + [rev[\"user\"] for rev in revisions]\n",
    "        \n",
    "        if \"continue\" in dataJson.keys():\n",
    "            cont = dataJson[\"continue\"][\"rvcontinue\"]\n",
    "            params[\"rvcontinue\"] = cont\n",
    "        else:\n",
    "            break\n",
    "            \n",
    "    return users\n",
    "        \n",
    "    \n",
    "    "
   ]
  },
  {
   "cell_type": "code",
   "execution_count": 7,
   "metadata": {},
   "outputs": [
    {
     "name": "stdout",
     "output_type": "stream",
     "text": [
      "2329\n",
      "590\n"
     ]
    }
   ],
   "source": [
    "users_updated = GetRevisions(\"Львів\")\n",
    "\n",
    "print(len(users_updated))\n",
    "print(len(set(users_updated)))"
   ]
  },
  {
   "cell_type": "code",
   "execution_count": null,
   "metadata": {},
   "outputs": [],
   "source": []
  },
  {
   "cell_type": "code",
   "execution_count": null,
   "metadata": {},
   "outputs": [],
   "source": []
  }
 ],
 "metadata": {
  "kernelspec": {
   "display_name": "Python 3",
   "language": "python",
   "name": "python3"
  },
  "language_info": {
   "codemirror_mode": {
    "name": "ipython",
    "version": 3
   },
   "file_extension": ".py",
   "mimetype": "text/x-python",
   "name": "python",
   "nbconvert_exporter": "python",
   "pygments_lexer": "ipython3",
   "version": "3.6.5"
  }
 },
 "nbformat": 4,
 "nbformat_minor": 2
}

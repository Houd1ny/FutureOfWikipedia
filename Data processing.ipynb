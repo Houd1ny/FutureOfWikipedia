{
 "cells": [
  {
   "cell_type": "code",
   "execution_count": 37,
   "metadata": {},
   "outputs": [],
   "source": [
    "import tqdm\n",
    "import numpy as np\n",
    "import pandas as pd\n",
    "from statsmodels.tsa.arima_model import ARIMA\n",
    "from statsmodels.tsa.arima_model import ARIMAResults\n",
    "from sklearn.metrics import mean_squared_error"
   ]
  },
  {
   "cell_type": "code",
   "execution_count": 42,
   "metadata": {},
   "outputs": [],
   "source": [
    "# to ignore warnings when fitting arima\n",
    "import warnings\n",
    "warnings.filterwarnings(\"ignore\")"
   ]
  },
  {
   "cell_type": "code",
   "execution_count": 2,
   "metadata": {},
   "outputs": [],
   "source": [
    "df = pd.read_csv(\"small_results.csv\")"
   ]
  },
  {
   "cell_type": "code",
   "execution_count": 3,
   "metadata": {},
   "outputs": [
    {
     "data": {
      "text/html": [
       "<div>\n",
       "<style scoped>\n",
       "    .dataframe tbody tr th:only-of-type {\n",
       "        vertical-align: middle;\n",
       "    }\n",
       "\n",
       "    .dataframe tbody tr th {\n",
       "        vertical-align: top;\n",
       "    }\n",
       "\n",
       "    .dataframe thead th {\n",
       "        text-align: right;\n",
       "    }\n",
       "</style>\n",
       "<table border=\"1\" class=\"dataframe\">\n",
       "  <thead>\n",
       "    <tr style=\"text-align: right;\">\n",
       "      <th></th>\n",
       "      <th>Unnamed: 0</th>\n",
       "      <th>views</th>\n",
       "      <th>timestamp</th>\n",
       "      <th>page_name</th>\n",
       "    </tr>\n",
       "  </thead>\n",
       "  <tbody>\n",
       "    <tr>\n",
       "      <th>0</th>\n",
       "      <td>0</td>\n",
       "      <td>29</td>\n",
       "      <td>2018-01-01</td>\n",
       "      <td>Хелловін</td>\n",
       "    </tr>\n",
       "    <tr>\n",
       "      <th>1</th>\n",
       "      <td>1</td>\n",
       "      <td>29</td>\n",
       "      <td>2018-01-02</td>\n",
       "      <td>Хелловін</td>\n",
       "    </tr>\n",
       "    <tr>\n",
       "      <th>2</th>\n",
       "      <td>2</td>\n",
       "      <td>32</td>\n",
       "      <td>2018-01-03</td>\n",
       "      <td>Хелловін</td>\n",
       "    </tr>\n",
       "    <tr>\n",
       "      <th>3</th>\n",
       "      <td>3</td>\n",
       "      <td>23</td>\n",
       "      <td>2018-01-04</td>\n",
       "      <td>Хелловін</td>\n",
       "    </tr>\n",
       "    <tr>\n",
       "      <th>4</th>\n",
       "      <td>4</td>\n",
       "      <td>39</td>\n",
       "      <td>2018-01-05</td>\n",
       "      <td>Хелловін</td>\n",
       "    </tr>\n",
       "  </tbody>\n",
       "</table>\n",
       "</div>"
      ],
      "text/plain": [
       "   Unnamed: 0  views   timestamp page_name\n",
       "0           0     29  2018-01-01  Хелловін\n",
       "1           1     29  2018-01-02  Хелловін\n",
       "2           2     32  2018-01-03  Хелловін\n",
       "3           3     23  2018-01-04  Хелловін\n",
       "4           4     39  2018-01-05  Хелловін"
      ]
     },
     "execution_count": 3,
     "metadata": {},
     "output_type": "execute_result"
    }
   ],
   "source": [
    "df[:5]"
   ]
  },
  {
   "cell_type": "code",
   "execution_count": 6,
   "metadata": {},
   "outputs": [
    {
     "data": {
      "text/plain": [
       "array([ 1.88762427,  0.72465953,  1.26144787, -1.16698146, -0.63881992,\n",
       "        0.48280226,  1.22699345, -1.02888135, -0.34950983,  0.30320045,\n",
       "       -0.53642526, -0.41771718,  0.10973228, -0.2535655 ,  2.66058477,\n",
       "       -0.71324346,  1.16134096, -1.23055132,  0.4692298 , -0.1196932 ,\n",
       "        0.82918103, -0.67772005,  1.60041806, -1.07106042,  0.41139457,\n",
       "       -0.62925946, -0.90345067, -1.90550645,  1.11859434,  0.54821075,\n",
       "       -1.10251094, -0.79524134,  1.02014372, -0.19619806,  1.04611723,\n",
       "       -0.0535095 ,  0.18381274,  1.14750751,  0.40104736,  1.02322566,\n",
       "        1.13431133, -1.03465789, -0.031713  , -1.28973525, -0.1271336 ,\n",
       "       -1.14381696, -0.02767995, -1.52248187, -2.44019872,  1.78793925,\n",
       "        0.48959161,  0.32982456,  0.81472203,  0.78934424,  0.9001609 ,\n",
       "        0.15331596,  1.62741761,  0.39102561, -1.02330182, -0.60137263,\n",
       "       -1.18066262, -0.66192402, -0.08162862, -0.52817455,  0.69747372,\n",
       "       -0.54783576, -1.00824901, -0.54647559,  1.42440942,  1.8501704 ,\n",
       "       -1.01082366, -0.43065062, -0.83196082,  0.9113031 , -0.39613613,\n",
       "        0.19475302, -1.61012596,  0.44713322, -0.11926356,  0.91599531,\n",
       "        0.60951794, -0.30097696, -0.32443605, -0.6138242 , -1.0866103 ,\n",
       "        0.23412627, -0.79715249, -0.35304238,  0.14338614, -2.17944002,\n",
       "       -0.65652863,  0.6090783 , -1.84554794,  0.21971213,  0.56779581,\n",
       "        0.97752824,  0.45832103,  0.49075893, -0.72754288,  0.84576403,\n",
       "        1.22710423, -1.38167222,  1.70856874,  0.41929076,  1.13669541,\n",
       "        0.62441082, -0.94592474,  0.1395896 ,  0.7027537 , -1.00880015,\n",
       "       -0.7734226 , -0.67717334, -0.61590233, -0.25095518, -0.40935282,\n",
       "        1.82200767,  1.37381882,  2.00791412,  0.25135536, -0.31583327,\n",
       "        0.90487865, -0.22643068,  0.16121217])"
      ]
     },
     "execution_count": 6,
     "metadata": {},
     "output_type": "execute_result"
    }
   ],
   "source": [
    "np.random.randn(df.shape[0])"
   ]
  },
  {
   "cell_type": "code",
   "execution_count": 9,
   "metadata": {},
   "outputs": [],
   "source": [
    "# generation of the second time series column for development process\n",
    "df[\"rand\"] = pd.Series(np.random.randn(df.shape[0]))"
   ]
  },
  {
   "cell_type": "code",
   "execution_count": 10,
   "metadata": {},
   "outputs": [
    {
     "data": {
      "text/html": [
       "<div>\n",
       "<style scoped>\n",
       "    .dataframe tbody tr th:only-of-type {\n",
       "        vertical-align: middle;\n",
       "    }\n",
       "\n",
       "    .dataframe tbody tr th {\n",
       "        vertical-align: top;\n",
       "    }\n",
       "\n",
       "    .dataframe thead th {\n",
       "        text-align: right;\n",
       "    }\n",
       "</style>\n",
       "<table border=\"1\" class=\"dataframe\">\n",
       "  <thead>\n",
       "    <tr style=\"text-align: right;\">\n",
       "      <th></th>\n",
       "      <th>Unnamed: 0</th>\n",
       "      <th>views</th>\n",
       "      <th>timestamp</th>\n",
       "      <th>page_name</th>\n",
       "      <th>rand</th>\n",
       "    </tr>\n",
       "  </thead>\n",
       "  <tbody>\n",
       "    <tr>\n",
       "      <th>0</th>\n",
       "      <td>0</td>\n",
       "      <td>29</td>\n",
       "      <td>2018-01-01</td>\n",
       "      <td>Хелловін</td>\n",
       "      <td>-1.186046</td>\n",
       "    </tr>\n",
       "    <tr>\n",
       "      <th>1</th>\n",
       "      <td>1</td>\n",
       "      <td>29</td>\n",
       "      <td>2018-01-02</td>\n",
       "      <td>Хелловін</td>\n",
       "      <td>-1.222354</td>\n",
       "    </tr>\n",
       "    <tr>\n",
       "      <th>2</th>\n",
       "      <td>2</td>\n",
       "      <td>32</td>\n",
       "      <td>2018-01-03</td>\n",
       "      <td>Хелловін</td>\n",
       "      <td>-0.530051</td>\n",
       "    </tr>\n",
       "    <tr>\n",
       "      <th>3</th>\n",
       "      <td>3</td>\n",
       "      <td>23</td>\n",
       "      <td>2018-01-04</td>\n",
       "      <td>Хелловін</td>\n",
       "      <td>-1.342433</td>\n",
       "    </tr>\n",
       "    <tr>\n",
       "      <th>4</th>\n",
       "      <td>4</td>\n",
       "      <td>39</td>\n",
       "      <td>2018-01-05</td>\n",
       "      <td>Хелловін</td>\n",
       "      <td>0.870854</td>\n",
       "    </tr>\n",
       "  </tbody>\n",
       "</table>\n",
       "</div>"
      ],
      "text/plain": [
       "   Unnamed: 0  views   timestamp page_name      rand\n",
       "0           0     29  2018-01-01  Хелловін -1.186046\n",
       "1           1     29  2018-01-02  Хелловін -1.222354\n",
       "2           2     32  2018-01-03  Хелловін -0.530051\n",
       "3           3     23  2018-01-04  Хелловін -1.342433\n",
       "4           4     39  2018-01-05  Хелловін  0.870854"
      ]
     },
     "execution_count": 10,
     "metadata": {},
     "output_type": "execute_result"
    }
   ],
   "source": [
    "df[:5]"
   ]
  },
  {
   "cell_type": "code",
   "execution_count": 11,
   "metadata": {},
   "outputs": [],
   "source": [
    "unique_pages = df['page_name'].unique()"
   ]
  },
  {
   "cell_type": "code",
   "execution_count": 13,
   "metadata": {},
   "outputs": [],
   "source": [
    "# evaluate an ARIMA model for a given order (p,d,q)\n",
    "def evaluate_arima_model(X, arima_order):\n",
    "    # prepare training dataset\n",
    "    train_size = int(len(X) * 0.66)\n",
    "    train, test = X[0:train_size], X[train_size:]\n",
    "    history = [x for x in train]\n",
    "    # make predictions\n",
    "    predictions = list()\n",
    "    for t in range(len(test)):\n",
    "        model = ARIMA(history, order=arima_order)\n",
    "        model_fit = model.fit(disp=0)\n",
    "        yhat = model_fit.forecast()[0]\n",
    "        predictions.append(yhat)\n",
    "        history.append(test[t])\n",
    "    # calculate out of sample error\n",
    "    error = mean_squared_error(test, predictions)\n",
    "    return error"
   ]
  },
  {
   "cell_type": "code",
   "execution_count": 39,
   "metadata": {},
   "outputs": [],
   "source": [
    "import sys\n",
    "\n",
    "def fit_arima(dataset):\n",
    "    # define grid of parameters\n",
    "    p_values = range(0, 2)\n",
    "    d_values = range(0, 2)\n",
    "    q_values = range(0, 2)\n",
    "#     evaluate_models(series.values, p_values, d_values, q_values)\n",
    "    dataset = dataset.astype('float32')\n",
    "    best_score, best_cfg = float(\"inf\"), None\n",
    "\n",
    "    for p in p_values:\n",
    "        for d in d_values:\n",
    "            for q in q_values:\n",
    "                order = (p,d,q)\n",
    "                try:\n",
    "                    mse = evaluate_arima_model(dataset, order)\n",
    "                    if mse < best_score:\n",
    "                        best_score, best_cfg = mse, order\n",
    "#                     print('ARIMA%s MSE=%.3f' % (order,mse))\n",
    "                except Exception as e: \n",
    "#                     print(e)\n",
    "                    continue\n",
    "#     print('Best ARIMA%s MSE=%.3f' % (best_cfg, best_score))                \n",
    "    return best_cfg\n"
   ]
  },
  {
   "cell_type": "code",
   "execution_count": 43,
   "metadata": {},
   "outputs": [],
   "source": [
    "stats = {\n",
    "    'page_name':[],\n",
    "    'count_records':[],\n",
    "    'mean':[],\n",
    "    'std':[],\n",
    "    'ar':[],\n",
    "    'd':[],\n",
    "    'ma':[],\n",
    "    'max':[],\n",
    "    'min':[]\n",
    "}\n",
    "\n",
    "for page in unique_pages:\n",
    "    page_ts = df[df['page_name'] == page]['views'].values\n",
    "    stats['page_name'].append(page)\n",
    "    stats['count_records'].append(len(page_ts))\n",
    "    stats['mean'].append(page_ts.mean())\n",
    "    stats['std'].append(page_ts.std())\n",
    "    stats['min'].append(page_ts.min())\n",
    "    stats['max'].append(page_ts.max())\n",
    "    ar, d, ma = fit_arima(page_ts)\n",
    "    stats['ar'].append(ar)\n",
    "    stats['d'].append(d)\n",
    "    stats['ma'].append(ma)"
   ]
  },
  {
   "cell_type": "code",
   "execution_count": 44,
   "metadata": {},
   "outputs": [
    {
     "data": {
      "text/html": [
       "<div>\n",
       "<style scoped>\n",
       "    .dataframe tbody tr th:only-of-type {\n",
       "        vertical-align: middle;\n",
       "    }\n",
       "\n",
       "    .dataframe tbody tr th {\n",
       "        vertical-align: top;\n",
       "    }\n",
       "\n",
       "    .dataframe thead th {\n",
       "        text-align: right;\n",
       "    }\n",
       "</style>\n",
       "<table border=\"1\" class=\"dataframe\">\n",
       "  <thead>\n",
       "    <tr style=\"text-align: right;\">\n",
       "      <th></th>\n",
       "      <th>ar</th>\n",
       "      <th>count_records</th>\n",
       "      <th>d</th>\n",
       "      <th>ma</th>\n",
       "      <th>max</th>\n",
       "      <th>mean</th>\n",
       "      <th>min</th>\n",
       "      <th>page_name</th>\n",
       "      <th>std</th>\n",
       "    </tr>\n",
       "  </thead>\n",
       "  <tbody>\n",
       "    <tr>\n",
       "      <th>0</th>\n",
       "      <td>0</td>\n",
       "      <td>41</td>\n",
       "      <td>1</td>\n",
       "      <td>1</td>\n",
       "      <td>62</td>\n",
       "      <td>37.097561</td>\n",
       "      <td>23</td>\n",
       "      <td>Хелловін</td>\n",
       "      <td>8.319254</td>\n",
       "    </tr>\n",
       "    <tr>\n",
       "      <th>1</th>\n",
       "      <td>0</td>\n",
       "      <td>41</td>\n",
       "      <td>1</td>\n",
       "      <td>0</td>\n",
       "      <td>160</td>\n",
       "      <td>69.658537</td>\n",
       "      <td>37</td>\n",
       "      <td>Танці_з_зірками</td>\n",
       "      <td>28.406981</td>\n",
       "    </tr>\n",
       "    <tr>\n",
       "      <th>2</th>\n",
       "      <td>0</td>\n",
       "      <td>41</td>\n",
       "      <td>1</td>\n",
       "      <td>1</td>\n",
       "      <td>169</td>\n",
       "      <td>31.219512</td>\n",
       "      <td>11</td>\n",
       "      <td>Мартин_(птах)</td>\n",
       "      <td>28.642891</td>\n",
       "    </tr>\n",
       "  </tbody>\n",
       "</table>\n",
       "</div>"
      ],
      "text/plain": [
       "   ar  count_records  d  ma  max       mean  min        page_name        std\n",
       "0   0             41  1   1   62  37.097561   23         Хелловін   8.319254\n",
       "1   0             41  1   0  160  69.658537   37  Танці_з_зірками  28.406981\n",
       "2   0             41  1   1  169  31.219512   11    Мартин_(птах)  28.642891"
      ]
     },
     "execution_count": 44,
     "metadata": {},
     "output_type": "execute_result"
    }
   ],
   "source": [
    "pd.DataFrame.from_dict(stats)"
   ]
  }
 ],
 "metadata": {
  "kernelspec": {
   "display_name": "Python 3",
   "language": "python",
   "name": "python3"
  },
  "language_info": {
   "codemirror_mode": {
    "name": "ipython",
    "version": 3
   },
   "file_extension": ".py",
   "mimetype": "text/x-python",
   "name": "python",
   "nbconvert_exporter": "python",
   "pygments_lexer": "ipython3",
   "version": "3.5.2"
  }
 },
 "nbformat": 4,
 "nbformat_minor": 2
}

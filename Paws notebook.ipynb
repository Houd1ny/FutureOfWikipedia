{
 "cells": [
  {
   "cell_type": "code",
   "execution_count": 4,
   "metadata": {},
   "outputs": [],
   "source": [
    "from sqlalchemy import create_engine\n",
    "import sys, os\n",
    "import pandas as pd\n",
    "\n",
    "constr = 'mysql+pymysql://{user}:{pwd}@{host}'.format(user=os.environ['MYSQL_USERNAME'],\n",
    "                                                      pwd=os.environ['MYSQL_PASSWORD'],\n",
    "                                                      host=os.environ['MYSQL_HOST'])\n",
    "con = create_engine(constr)\n",
    "\n",
    "q = \"SELECT  \\\n",
    "    ips_item_id AS wikidata, \\\n",
    "    ips_site_page AS title \\\n",
    "FROM wikidatawiki_p.wb_items_per_site \\\n",
    "WHERE ips_site_id= 'ukwiki' \\\n",
    "AND  ips_item_id  NOT IN (\\\n",
    "        SELECT ips_item_id \\\n",
    "        FROM wikidatawiki_p.wb_items_per_site \\\n",
    "        WHERE ips_site_id= 'enwiki') LIMIT 100; \"\n",
    "df = pd.read_sql(q, con)"
   ]
  },
  {
   "cell_type": "code",
   "execution_count": 5,
   "metadata": {},
   "outputs": [
    {
     "data": {
      "text/html": [
       "<div>\n",
       "<style scoped>\n",
       "    .dataframe tbody tr th:only-of-type {\n",
       "        vertical-align: middle;\n",
       "    }\n",
       "\n",
       "    .dataframe tbody tr th {\n",
       "        vertical-align: top;\n",
       "    }\n",
       "\n",
       "    .dataframe thead th {\n",
       "        text-align: right;\n",
       "    }\n",
       "</style>\n",
       "<table border=\"1\" class=\"dataframe\">\n",
       "  <thead>\n",
       "    <tr style=\"text-align: right;\">\n",
       "      <th></th>\n",
       "      <th>wikidata</th>\n",
       "      <th>title</th>\n",
       "    </tr>\n",
       "  </thead>\n",
       "  <tbody>\n",
       "    <tr>\n",
       "      <th>0</th>\n",
       "      <td>12061549</td>\n",
       "      <td>b'! (\\xd0\\xb0\\xd0\\xbb\\xd1\\x8c\\xd0\\xb1\\xd0\\xbe\\...</td>\n",
       "    </tr>\n",
       "    <tr>\n",
       "      <th>1</th>\n",
       "      <td>4027682</td>\n",
       "      <td>b'!\\xd0\\xa4\\xd0\\x95\\xd0\\xa1\\xd0\\xa2'</td>\n",
       "    </tr>\n",
       "    <tr>\n",
       "      <th>2</th>\n",
       "      <td>12061550</td>\n",
       "      <td>b'!\\xd0\\xa7\\xd0\\xb8\\xd0\\xb4\\xd1\\x80\\xd0\\xbe'</td>\n",
       "    </tr>\n",
       "    <tr>\n",
       "      <th>3</th>\n",
       "      <td>30196568</td>\n",
       "      <td>b'$uicideboy$'</td>\n",
       "    </tr>\n",
       "    <tr>\n",
       "      <th>4</th>\n",
       "      <td>11511</td>\n",
       "      <td>b'&amp;RQ'</td>\n",
       "    </tr>\n",
       "    <tr>\n",
       "      <th>5</th>\n",
       "      <td>2445363</td>\n",
       "      <td>b\"'Cause You Are Young\"</td>\n",
       "    </tr>\n",
       "    <tr>\n",
       "      <th>6</th>\n",
       "      <td>25447349</td>\n",
       "      <td>b\"'Cichlasoma'\"</td>\n",
       "    </tr>\n",
       "    <tr>\n",
       "      <th>7</th>\n",
       "      <td>4405243</td>\n",
       "      <td>b\"'Lac Motion\"</td>\n",
       "    </tr>\n",
       "    <tr>\n",
       "      <th>8</th>\n",
       "      <td>25441644</td>\n",
       "      <td>b\"'\\xd0\\x90\\xd0\\xb1\\xd0\\xb4 \\xd0\\x90\\xd0\\xbb\\x...</td>\n",
       "    </tr>\n",
       "    <tr>\n",
       "      <th>9</th>\n",
       "      <td>4477</td>\n",
       "      <td>b'(10003) 1971 UD1'</td>\n",
       "    </tr>\n",
       "    <tr>\n",
       "      <th>10</th>\n",
       "      <td>3510045</td>\n",
       "      <td>b'(100048) 1991 TE14'</td>\n",
       "    </tr>\n",
       "    <tr>\n",
       "      <th>11</th>\n",
       "      <td>1318949</td>\n",
       "      <td>b'(172460) 2003 RT11'</td>\n",
       "    </tr>\n",
       "    <tr>\n",
       "      <th>12</th>\n",
       "      <td>1627264</td>\n",
       "      <td>b'(184064) 2004 GM'</td>\n",
       "    </tr>\n",
       "    <tr>\n",
       "      <th>13</th>\n",
       "      <td>1627451</td>\n",
       "      <td>b'(196297) 2003 FA'</td>\n",
       "    </tr>\n",
       "    <tr>\n",
       "      <th>14</th>\n",
       "      <td>8346497</td>\n",
       "      <td>b'(199742) 2006 JD'</td>\n",
       "    </tr>\n",
       "    <tr>\n",
       "      <th>15</th>\n",
       "      <td>1115253</td>\n",
       "      <td>b'(207028) 2004 VN60'</td>\n",
       "    </tr>\n",
       "    <tr>\n",
       "      <th>16</th>\n",
       "      <td>4828599</td>\n",
       "      <td>b'(207548) 2006 LZ'</td>\n",
       "    </tr>\n",
       "    <tr>\n",
       "      <th>17</th>\n",
       "      <td>4757703</td>\n",
       "      <td>b'(207690) 2007 RE19'</td>\n",
       "    </tr>\n",
       "    <tr>\n",
       "      <th>18</th>\n",
       "      <td>3511580</td>\n",
       "      <td>b'(209635) 2005 BR1'</td>\n",
       "    </tr>\n",
       "    <tr>\n",
       "      <th>19</th>\n",
       "      <td>3510073</td>\n",
       "      <td>b'(211489) 2003 KP'</td>\n",
       "    </tr>\n",
       "    <tr>\n",
       "      <th>20</th>\n",
       "      <td>3510034</td>\n",
       "      <td>b'(211536) 2003 RR11'</td>\n",
       "    </tr>\n",
       "    <tr>\n",
       "      <th>21</th>\n",
       "      <td>3511590</td>\n",
       "      <td>b'(211917) 2004 TG8'</td>\n",
       "    </tr>\n",
       "    <tr>\n",
       "      <th>22</th>\n",
       "      <td>3510060</td>\n",
       "      <td>b'(213727) 2002 VF92'</td>\n",
       "    </tr>\n",
       "    <tr>\n",
       "      <th>23</th>\n",
       "      <td>3510021</td>\n",
       "      <td>b'(213893) 2003 TN2'</td>\n",
       "    </tr>\n",
       "    <tr>\n",
       "      <th>24</th>\n",
       "      <td>3511595</td>\n",
       "      <td>b'(213894) 2003 TP2'</td>\n",
       "    </tr>\n",
       "    <tr>\n",
       "      <th>25</th>\n",
       "      <td>4027831</td>\n",
       "      <td>b'(29981) 1999 TD10'</td>\n",
       "    </tr>\n",
       "    <tr>\n",
       "      <th>26</th>\n",
       "      <td>1062265</td>\n",
       "      <td>b'(4772) 1989 VM'</td>\n",
       "    </tr>\n",
       "    <tr>\n",
       "      <th>27</th>\n",
       "      <td>634096</td>\n",
       "      <td>b'(4830) 1988 RG4'</td>\n",
       "    </tr>\n",
       "    <tr>\n",
       "      <th>28</th>\n",
       "      <td>904611</td>\n",
       "      <td>b'(5107) 1987 DS6'</td>\n",
       "    </tr>\n",
       "    <tr>\n",
       "      <th>29</th>\n",
       "      <td>709510</td>\n",
       "      <td>b'(6016) 1991 PA11'</td>\n",
       "    </tr>\n",
       "    <tr>\n",
       "      <th>...</th>\n",
       "      <td>...</td>\n",
       "      <td>...</td>\n",
       "    </tr>\n",
       "    <tr>\n",
       "      <th>70</th>\n",
       "      <td>12061841</td>\n",
       "      <td>b'1 \\xd0\\x94\\xd0\\xb5\\xd1\\x87\\xd0\\xb5\\xd0\\xbc\\x...</td>\n",
       "    </tr>\n",
       "    <tr>\n",
       "      <th>71</th>\n",
       "      <td>16685627</td>\n",
       "      <td>b'1 \\xd0\\x9c\\xd0\\xb0\\xd0\\xbc\\xd0\\xb8\\xd1\\x80'</td>\n",
       "    </tr>\n",
       "    <tr>\n",
       "      <th>72</th>\n",
       "      <td>12061837</td>\n",
       "      <td>b'1 \\xd0\\xa1\\xd0\\xba\\xd0\\xb0\\xd1\\x83\\xd1\\x82\\x...</td>\n",
       "    </tr>\n",
       "    <tr>\n",
       "      <th>73</th>\n",
       "      <td>12061840</td>\n",
       "      <td>b'1 \\xd0\\xb3\\xd1\\x80\\xd0\\xb8\\xd0\\xb2\\xd0\\xbd\\x...</td>\n",
       "    </tr>\n",
       "    <tr>\n",
       "      <th>74</th>\n",
       "      <td>9196253</td>\n",
       "      <td>b'1 \\xd0\\xb3\\xd1\\x80\\xd0\\xb8\\xd0\\xb2\\xd0\\xbd\\x...</td>\n",
       "    </tr>\n",
       "    <tr>\n",
       "      <th>75</th>\n",
       "      <td>9283220</td>\n",
       "      <td>b'1 \\xd0\\xb3\\xd1\\x80\\xd0\\xb8\\xd0\\xb2\\xd0\\xbd\\x...</td>\n",
       "    </tr>\n",
       "    <tr>\n",
       "      <th>76</th>\n",
       "      <td>12061838</td>\n",
       "      <td>b'1 \\xd0\\xba\\xd0\\xb0\\xd1\\x80\\xd0\\xb1\\xd0\\xbe\\x...</td>\n",
       "    </tr>\n",
       "    <tr>\n",
       "      <th>77</th>\n",
       "      <td>20071234</td>\n",
       "      <td>b'1 \\xd0\\xba\\xd0\\xb0\\xd1\\x80\\xd0\\xb1\\xd0\\xbe\\x...</td>\n",
       "    </tr>\n",
       "    <tr>\n",
       "      <th>78</th>\n",
       "      <td>20071235</td>\n",
       "      <td>b'1 \\xd0\\xba\\xd0\\xb0\\xd1\\x80\\xd0\\xb1\\xd0\\xbe\\x...</td>\n",
       "    </tr>\n",
       "    <tr>\n",
       "      <th>79</th>\n",
       "      <td>20071236</td>\n",
       "      <td>b\"1 \\xd0\\xba\\xd0\\xb0\\xd1\\x80\\xd0\\xb1\\xd0\\xbe\\x...</td>\n",
       "    </tr>\n",
       "    <tr>\n",
       "      <th>80</th>\n",
       "      <td>20071237</td>\n",
       "      <td>b'1 \\xd0\\xba\\xd0\\xb0\\xd1\\x80\\xd0\\xb1\\xd0\\xbe\\x...</td>\n",
       "    </tr>\n",
       "    <tr>\n",
       "      <th>81</th>\n",
       "      <td>20071238</td>\n",
       "      <td>b'1 \\xd0\\xba\\xd0\\xb0\\xd1\\x80\\xd0\\xb1\\xd0\\xbe\\x...</td>\n",
       "    </tr>\n",
       "    <tr>\n",
       "      <th>82</th>\n",
       "      <td>20071239</td>\n",
       "      <td>b'1 \\xd0\\xba\\xd0\\xb0\\xd1\\x80\\xd0\\xb1\\xd0\\xbe\\x...</td>\n",
       "    </tr>\n",
       "    <tr>\n",
       "      <th>83</th>\n",
       "      <td>20071240</td>\n",
       "      <td>b'1 \\xd0\\xba\\xd0\\xb0\\xd1\\x80\\xd0\\xb1\\xd0\\xbe\\x...</td>\n",
       "    </tr>\n",
       "    <tr>\n",
       "      <th>84</th>\n",
       "      <td>20071241</td>\n",
       "      <td>b'1 \\xd0\\xba\\xd0\\xb0\\xd1\\x80\\xd0\\xb1\\xd0\\xbe\\x...</td>\n",
       "    </tr>\n",
       "    <tr>\n",
       "      <th>85</th>\n",
       "      <td>20071243</td>\n",
       "      <td>b'1 \\xd0\\xba\\xd0\\xb0\\xd1\\x80\\xd0\\xb1\\xd0\\xbe\\x...</td>\n",
       "    </tr>\n",
       "    <tr>\n",
       "      <th>86</th>\n",
       "      <td>20071242</td>\n",
       "      <td>b'1 \\xd0\\xba\\xd0\\xb0\\xd1\\x80\\xd0\\xb1\\xd0\\xbe\\x...</td>\n",
       "    </tr>\n",
       "    <tr>\n",
       "      <th>87</th>\n",
       "      <td>20071244</td>\n",
       "      <td>b'1 \\xd0\\xba\\xd0\\xb0\\xd1\\x80\\xd0\\xb1\\xd0\\xbe\\x...</td>\n",
       "    </tr>\n",
       "    <tr>\n",
       "      <th>88</th>\n",
       "      <td>20071245</td>\n",
       "      <td>b'1 \\xd0\\xba\\xd0\\xb0\\xd1\\x80\\xd0\\xb1\\xd0\\xbe\\x...</td>\n",
       "    </tr>\n",
       "    <tr>\n",
       "      <th>89</th>\n",
       "      <td>20071246</td>\n",
       "      <td>b'1 \\xd0\\xba\\xd0\\xb0\\xd1\\x80\\xd0\\xb1\\xd0\\xbe\\x...</td>\n",
       "    </tr>\n",
       "    <tr>\n",
       "      <th>90</th>\n",
       "      <td>20071247</td>\n",
       "      <td>b'1 \\xd0\\xba\\xd0\\xb0\\xd1\\x80\\xd0\\xb1\\xd0\\xbe\\x...</td>\n",
       "    </tr>\n",
       "    <tr>\n",
       "      <th>91</th>\n",
       "      <td>20071248</td>\n",
       "      <td>b'1 \\xd0\\xba\\xd0\\xb0\\xd1\\x80\\xd0\\xb1\\xd0\\xbe\\x...</td>\n",
       "    </tr>\n",
       "    <tr>\n",
       "      <th>92</th>\n",
       "      <td>20071249</td>\n",
       "      <td>b'1 \\xd0\\xba\\xd0\\xb0\\xd1\\x80\\xd0\\xb1\\xd0\\xbe\\x...</td>\n",
       "    </tr>\n",
       "    <tr>\n",
       "      <th>93</th>\n",
       "      <td>20071250</td>\n",
       "      <td>b'1 \\xd0\\xba\\xd0\\xb0\\xd1\\x80\\xd0\\xb1\\xd0\\xbe\\x...</td>\n",
       "    </tr>\n",
       "    <tr>\n",
       "      <th>94</th>\n",
       "      <td>20071251</td>\n",
       "      <td>b'1 \\xd0\\xba\\xd0\\xb0\\xd1\\x80\\xd0\\xb1\\xd0\\xbe\\x...</td>\n",
       "    </tr>\n",
       "    <tr>\n",
       "      <th>95</th>\n",
       "      <td>20071252</td>\n",
       "      <td>b'1 \\xd0\\xba\\xd0\\xb0\\xd1\\x80\\xd0\\xb1\\xd0\\xbe\\x...</td>\n",
       "    </tr>\n",
       "    <tr>\n",
       "      <th>96</th>\n",
       "      <td>20071253</td>\n",
       "      <td>b'1 \\xd0\\xba\\xd0\\xb0\\xd1\\x80\\xd0\\xb1\\xd0\\xbe\\x...</td>\n",
       "    </tr>\n",
       "    <tr>\n",
       "      <th>97</th>\n",
       "      <td>20071254</td>\n",
       "      <td>b'1 \\xd0\\xba\\xd0\\xb0\\xd1\\x80\\xd0\\xb1\\xd0\\xbe\\x...</td>\n",
       "    </tr>\n",
       "    <tr>\n",
       "      <th>98</th>\n",
       "      <td>20071255</td>\n",
       "      <td>b'1 \\xd0\\xba\\xd0\\xb0\\xd1\\x80\\xd0\\xb1\\xd0\\xbe\\x...</td>\n",
       "    </tr>\n",
       "    <tr>\n",
       "      <th>99</th>\n",
       "      <td>20071256</td>\n",
       "      <td>b'1 \\xd0\\xba\\xd0\\xb0\\xd1\\x80\\xd0\\xb1\\xd0\\xbe\\x...</td>\n",
       "    </tr>\n",
       "  </tbody>\n",
       "</table>\n",
       "<p>100 rows × 2 columns</p>\n",
       "</div>"
      ],
      "text/plain": [
       "    wikidata                                              title\n",
       "0   12061549  b'! (\\xd0\\xb0\\xd0\\xbb\\xd1\\x8c\\xd0\\xb1\\xd0\\xbe\\...\n",
       "1    4027682               b'!\\xd0\\xa4\\xd0\\x95\\xd0\\xa1\\xd0\\xa2'\n",
       "2   12061550       b'!\\xd0\\xa7\\xd0\\xb8\\xd0\\xb4\\xd1\\x80\\xd0\\xbe'\n",
       "3   30196568                                     b'$uicideboy$'\n",
       "4      11511                                             b'&RQ'\n",
       "5    2445363                            b\"'Cause You Are Young\"\n",
       "6   25447349                                    b\"'Cichlasoma'\"\n",
       "7    4405243                                     b\"'Lac Motion\"\n",
       "8   25441644  b\"'\\xd0\\x90\\xd0\\xb1\\xd0\\xb4 \\xd0\\x90\\xd0\\xbb\\x...\n",
       "9       4477                                b'(10003) 1971 UD1'\n",
       "10   3510045                              b'(100048) 1991 TE14'\n",
       "11   1318949                              b'(172460) 2003 RT11'\n",
       "12   1627264                                b'(184064) 2004 GM'\n",
       "13   1627451                                b'(196297) 2003 FA'\n",
       "14   8346497                                b'(199742) 2006 JD'\n",
       "15   1115253                              b'(207028) 2004 VN60'\n",
       "16   4828599                                b'(207548) 2006 LZ'\n",
       "17   4757703                              b'(207690) 2007 RE19'\n",
       "18   3511580                               b'(209635) 2005 BR1'\n",
       "19   3510073                                b'(211489) 2003 KP'\n",
       "20   3510034                              b'(211536) 2003 RR11'\n",
       "21   3511590                               b'(211917) 2004 TG8'\n",
       "22   3510060                              b'(213727) 2002 VF92'\n",
       "23   3510021                               b'(213893) 2003 TN2'\n",
       "24   3511595                               b'(213894) 2003 TP2'\n",
       "25   4027831                               b'(29981) 1999 TD10'\n",
       "26   1062265                                  b'(4772) 1989 VM'\n",
       "27    634096                                 b'(4830) 1988 RG4'\n",
       "28    904611                                 b'(5107) 1987 DS6'\n",
       "29    709510                                b'(6016) 1991 PA11'\n",
       "..       ...                                                ...\n",
       "70  12061841  b'1 \\xd0\\x94\\xd0\\xb5\\xd1\\x87\\xd0\\xb5\\xd0\\xbc\\x...\n",
       "71  16685627      b'1 \\xd0\\x9c\\xd0\\xb0\\xd0\\xbc\\xd0\\xb8\\xd1\\x80'\n",
       "72  12061837  b'1 \\xd0\\xa1\\xd0\\xba\\xd0\\xb0\\xd1\\x83\\xd1\\x82\\x...\n",
       "73  12061840  b'1 \\xd0\\xb3\\xd1\\x80\\xd0\\xb8\\xd0\\xb2\\xd0\\xbd\\x...\n",
       "74   9196253  b'1 \\xd0\\xb3\\xd1\\x80\\xd0\\xb8\\xd0\\xb2\\xd0\\xbd\\x...\n",
       "75   9283220  b'1 \\xd0\\xb3\\xd1\\x80\\xd0\\xb8\\xd0\\xb2\\xd0\\xbd\\x...\n",
       "76  12061838  b'1 \\xd0\\xba\\xd0\\xb0\\xd1\\x80\\xd0\\xb1\\xd0\\xbe\\x...\n",
       "77  20071234  b'1 \\xd0\\xba\\xd0\\xb0\\xd1\\x80\\xd0\\xb1\\xd0\\xbe\\x...\n",
       "78  20071235  b'1 \\xd0\\xba\\xd0\\xb0\\xd1\\x80\\xd0\\xb1\\xd0\\xbe\\x...\n",
       "79  20071236  b\"1 \\xd0\\xba\\xd0\\xb0\\xd1\\x80\\xd0\\xb1\\xd0\\xbe\\x...\n",
       "80  20071237  b'1 \\xd0\\xba\\xd0\\xb0\\xd1\\x80\\xd0\\xb1\\xd0\\xbe\\x...\n",
       "81  20071238  b'1 \\xd0\\xba\\xd0\\xb0\\xd1\\x80\\xd0\\xb1\\xd0\\xbe\\x...\n",
       "82  20071239  b'1 \\xd0\\xba\\xd0\\xb0\\xd1\\x80\\xd0\\xb1\\xd0\\xbe\\x...\n",
       "83  20071240  b'1 \\xd0\\xba\\xd0\\xb0\\xd1\\x80\\xd0\\xb1\\xd0\\xbe\\x...\n",
       "84  20071241  b'1 \\xd0\\xba\\xd0\\xb0\\xd1\\x80\\xd0\\xb1\\xd0\\xbe\\x...\n",
       "85  20071243  b'1 \\xd0\\xba\\xd0\\xb0\\xd1\\x80\\xd0\\xb1\\xd0\\xbe\\x...\n",
       "86  20071242  b'1 \\xd0\\xba\\xd0\\xb0\\xd1\\x80\\xd0\\xb1\\xd0\\xbe\\x...\n",
       "87  20071244  b'1 \\xd0\\xba\\xd0\\xb0\\xd1\\x80\\xd0\\xb1\\xd0\\xbe\\x...\n",
       "88  20071245  b'1 \\xd0\\xba\\xd0\\xb0\\xd1\\x80\\xd0\\xb1\\xd0\\xbe\\x...\n",
       "89  20071246  b'1 \\xd0\\xba\\xd0\\xb0\\xd1\\x80\\xd0\\xb1\\xd0\\xbe\\x...\n",
       "90  20071247  b'1 \\xd0\\xba\\xd0\\xb0\\xd1\\x80\\xd0\\xb1\\xd0\\xbe\\x...\n",
       "91  20071248  b'1 \\xd0\\xba\\xd0\\xb0\\xd1\\x80\\xd0\\xb1\\xd0\\xbe\\x...\n",
       "92  20071249  b'1 \\xd0\\xba\\xd0\\xb0\\xd1\\x80\\xd0\\xb1\\xd0\\xbe\\x...\n",
       "93  20071250  b'1 \\xd0\\xba\\xd0\\xb0\\xd1\\x80\\xd0\\xb1\\xd0\\xbe\\x...\n",
       "94  20071251  b'1 \\xd0\\xba\\xd0\\xb0\\xd1\\x80\\xd0\\xb1\\xd0\\xbe\\x...\n",
       "95  20071252  b'1 \\xd0\\xba\\xd0\\xb0\\xd1\\x80\\xd0\\xb1\\xd0\\xbe\\x...\n",
       "96  20071253  b'1 \\xd0\\xba\\xd0\\xb0\\xd1\\x80\\xd0\\xb1\\xd0\\xbe\\x...\n",
       "97  20071254  b'1 \\xd0\\xba\\xd0\\xb0\\xd1\\x80\\xd0\\xb1\\xd0\\xbe\\x...\n",
       "98  20071255  b'1 \\xd0\\xba\\xd0\\xb0\\xd1\\x80\\xd0\\xb1\\xd0\\xbe\\x...\n",
       "99  20071256  b'1 \\xd0\\xba\\xd0\\xb0\\xd1\\x80\\xd0\\xb1\\xd0\\xbe\\x...\n",
       "\n",
       "[100 rows x 2 columns]"
      ]
     },
     "execution_count": 5,
     "metadata": {},
     "output_type": "execute_result"
    }
   ],
   "source": [
    "df"
   ]
  },
  {
   "cell_type": "code",
   "execution_count": null,
   "metadata": {},
   "outputs": [],
   "source": [
    "q = \"select count(*), ll_from from langlinks group by 2 order by 1 desc limit 20;\""
   ]
  },
  {
   "cell_type": "code",
   "execution_count": 3,
   "metadata": {},
   "outputs": [
    {
     "ename": "UnicodeEncodeError",
     "evalue": "'latin-1' codec can't encode characters in position 52-55: ordinal not in range(256)",
     "output_type": "error",
     "traceback": [
      "\u001b[0;31m---------------------------------------------------------------------------\u001b[0m",
      "\u001b[0;31mUnicodeEncodeError\u001b[0m                        Traceback (most recent call last)",
      "\u001b[0;32m<ipython-input-3-ffe682b00d25>\u001b[0m in \u001b[0;36m<module>\u001b[0;34m()\u001b[0m\n\u001b[1;32m      9\u001b[0m \u001b[0;34m\u001b[0m\u001b[0m\n\u001b[1;32m     10\u001b[0m \u001b[0;34m\u001b[0m\u001b[0m\n\u001b[0;32m---> 11\u001b[0;31m \u001b[0mdf\u001b[0m \u001b[0;34m=\u001b[0m \u001b[0mpd\u001b[0m\u001b[0;34m.\u001b[0m\u001b[0mread_sql\u001b[0m\u001b[0;34m(\u001b[0m\u001b[0mq\u001b[0m\u001b[0;34m,\u001b[0m \u001b[0mcon\u001b[0m\u001b[0;34m)\u001b[0m\u001b[0;34m\u001b[0m\u001b[0m\n\u001b[0m",
      "\u001b[0;32m/srv/paws/lib/python3.6/site-packages/pandas/io/sql.py\u001b[0m in \u001b[0;36mread_sql\u001b[0;34m(sql, con, index_col, coerce_float, params, parse_dates, columns, chunksize)\u001b[0m\n\u001b[1;32m    395\u001b[0m             \u001b[0msql\u001b[0m\u001b[0;34m,\u001b[0m \u001b[0mindex_col\u001b[0m\u001b[0;34m=\u001b[0m\u001b[0mindex_col\u001b[0m\u001b[0;34m,\u001b[0m \u001b[0mparams\u001b[0m\u001b[0;34m=\u001b[0m\u001b[0mparams\u001b[0m\u001b[0;34m,\u001b[0m\u001b[0;34m\u001b[0m\u001b[0m\n\u001b[1;32m    396\u001b[0m             \u001b[0mcoerce_float\u001b[0m\u001b[0;34m=\u001b[0m\u001b[0mcoerce_float\u001b[0m\u001b[0;34m,\u001b[0m \u001b[0mparse_dates\u001b[0m\u001b[0;34m=\u001b[0m\u001b[0mparse_dates\u001b[0m\u001b[0;34m,\u001b[0m\u001b[0;34m\u001b[0m\u001b[0m\n\u001b[0;32m--> 397\u001b[0;31m             chunksize=chunksize)\n\u001b[0m\u001b[1;32m    398\u001b[0m \u001b[0;34m\u001b[0m\u001b[0m\n\u001b[1;32m    399\u001b[0m \u001b[0;34m\u001b[0m\u001b[0m\n",
      "\u001b[0;32m/srv/paws/lib/python3.6/site-packages/pandas/io/sql.py\u001b[0m in \u001b[0;36mread_query\u001b[0;34m(self, sql, index_col, coerce_float, parse_dates, params, chunksize)\u001b[0m\n\u001b[1;32m   1061\u001b[0m         \u001b[0margs\u001b[0m \u001b[0;34m=\u001b[0m \u001b[0m_convert_params\u001b[0m\u001b[0;34m(\u001b[0m\u001b[0msql\u001b[0m\u001b[0;34m,\u001b[0m \u001b[0mparams\u001b[0m\u001b[0;34m)\u001b[0m\u001b[0;34m\u001b[0m\u001b[0m\n\u001b[1;32m   1062\u001b[0m \u001b[0;34m\u001b[0m\u001b[0m\n\u001b[0;32m-> 1063\u001b[0;31m         \u001b[0mresult\u001b[0m \u001b[0;34m=\u001b[0m \u001b[0mself\u001b[0m\u001b[0;34m.\u001b[0m\u001b[0mexecute\u001b[0m\u001b[0;34m(\u001b[0m\u001b[0;34m*\u001b[0m\u001b[0margs\u001b[0m\u001b[0;34m)\u001b[0m\u001b[0;34m\u001b[0m\u001b[0m\n\u001b[0m\u001b[1;32m   1064\u001b[0m         \u001b[0mcolumns\u001b[0m \u001b[0;34m=\u001b[0m \u001b[0mresult\u001b[0m\u001b[0;34m.\u001b[0m\u001b[0mkeys\u001b[0m\u001b[0;34m(\u001b[0m\u001b[0;34m)\u001b[0m\u001b[0;34m\u001b[0m\u001b[0m\n\u001b[1;32m   1065\u001b[0m \u001b[0;34m\u001b[0m\u001b[0m\n",
      "\u001b[0;32m/srv/paws/lib/python3.6/site-packages/pandas/io/sql.py\u001b[0m in \u001b[0;36mexecute\u001b[0;34m(self, *args, **kwargs)\u001b[0m\n\u001b[1;32m    952\u001b[0m     \u001b[0;32mdef\u001b[0m \u001b[0mexecute\u001b[0m\u001b[0;34m(\u001b[0m\u001b[0mself\u001b[0m\u001b[0;34m,\u001b[0m \u001b[0;34m*\u001b[0m\u001b[0margs\u001b[0m\u001b[0;34m,\u001b[0m \u001b[0;34m**\u001b[0m\u001b[0mkwargs\u001b[0m\u001b[0;34m)\u001b[0m\u001b[0;34m:\u001b[0m\u001b[0;34m\u001b[0m\u001b[0m\n\u001b[1;32m    953\u001b[0m         \u001b[0;34m\"\"\"Simple passthrough to SQLAlchemy connectable\"\"\"\u001b[0m\u001b[0;34m\u001b[0m\u001b[0m\n\u001b[0;32m--> 954\u001b[0;31m         \u001b[0;32mreturn\u001b[0m \u001b[0mself\u001b[0m\u001b[0;34m.\u001b[0m\u001b[0mconnectable\u001b[0m\u001b[0;34m.\u001b[0m\u001b[0mexecute\u001b[0m\u001b[0;34m(\u001b[0m\u001b[0;34m*\u001b[0m\u001b[0margs\u001b[0m\u001b[0;34m,\u001b[0m \u001b[0;34m**\u001b[0m\u001b[0mkwargs\u001b[0m\u001b[0;34m)\u001b[0m\u001b[0;34m\u001b[0m\u001b[0m\n\u001b[0m\u001b[1;32m    955\u001b[0m \u001b[0;34m\u001b[0m\u001b[0m\n\u001b[1;32m    956\u001b[0m     def read_table(self, table_name, index_col=None, coerce_float=True,\n",
      "\u001b[0;32m/srv/paws/lib/python3.6/site-packages/sqlalchemy/engine/base.py\u001b[0m in \u001b[0;36mexecute\u001b[0;34m(self, statement, *multiparams, **params)\u001b[0m\n\u001b[1;32m   2073\u001b[0m \u001b[0;34m\u001b[0m\u001b[0m\n\u001b[1;32m   2074\u001b[0m         \u001b[0mconnection\u001b[0m \u001b[0;34m=\u001b[0m \u001b[0mself\u001b[0m\u001b[0;34m.\u001b[0m\u001b[0mcontextual_connect\u001b[0m\u001b[0;34m(\u001b[0m\u001b[0mclose_with_result\u001b[0m\u001b[0;34m=\u001b[0m\u001b[0;32mTrue\u001b[0m\u001b[0;34m)\u001b[0m\u001b[0;34m\u001b[0m\u001b[0m\n\u001b[0;32m-> 2075\u001b[0;31m         \u001b[0;32mreturn\u001b[0m \u001b[0mconnection\u001b[0m\u001b[0;34m.\u001b[0m\u001b[0mexecute\u001b[0m\u001b[0;34m(\u001b[0m\u001b[0mstatement\u001b[0m\u001b[0;34m,\u001b[0m \u001b[0;34m*\u001b[0m\u001b[0mmultiparams\u001b[0m\u001b[0;34m,\u001b[0m \u001b[0;34m**\u001b[0m\u001b[0mparams\u001b[0m\u001b[0;34m)\u001b[0m\u001b[0;34m\u001b[0m\u001b[0m\n\u001b[0m\u001b[1;32m   2076\u001b[0m \u001b[0;34m\u001b[0m\u001b[0m\n\u001b[1;32m   2077\u001b[0m     \u001b[0;32mdef\u001b[0m \u001b[0mscalar\u001b[0m\u001b[0;34m(\u001b[0m\u001b[0mself\u001b[0m\u001b[0;34m,\u001b[0m \u001b[0mstatement\u001b[0m\u001b[0;34m,\u001b[0m \u001b[0;34m*\u001b[0m\u001b[0mmultiparams\u001b[0m\u001b[0;34m,\u001b[0m \u001b[0;34m**\u001b[0m\u001b[0mparams\u001b[0m\u001b[0;34m)\u001b[0m\u001b[0;34m:\u001b[0m\u001b[0;34m\u001b[0m\u001b[0m\n",
      "\u001b[0;32m/srv/paws/lib/python3.6/site-packages/sqlalchemy/engine/base.py\u001b[0m in \u001b[0;36mexecute\u001b[0;34m(self, object, *multiparams, **params)\u001b[0m\n\u001b[1;32m    940\u001b[0m         \"\"\"\n\u001b[1;32m    941\u001b[0m         \u001b[0;32mif\u001b[0m \u001b[0misinstance\u001b[0m\u001b[0;34m(\u001b[0m\u001b[0mobject\u001b[0m\u001b[0;34m,\u001b[0m \u001b[0mutil\u001b[0m\u001b[0;34m.\u001b[0m\u001b[0mstring_types\u001b[0m\u001b[0;34m[\u001b[0m\u001b[0;36m0\u001b[0m\u001b[0;34m]\u001b[0m\u001b[0;34m)\u001b[0m\u001b[0;34m:\u001b[0m\u001b[0;34m\u001b[0m\u001b[0m\n\u001b[0;32m--> 942\u001b[0;31m             \u001b[0;32mreturn\u001b[0m \u001b[0mself\u001b[0m\u001b[0;34m.\u001b[0m\u001b[0m_execute_text\u001b[0m\u001b[0;34m(\u001b[0m\u001b[0mobject\u001b[0m\u001b[0;34m,\u001b[0m \u001b[0mmultiparams\u001b[0m\u001b[0;34m,\u001b[0m \u001b[0mparams\u001b[0m\u001b[0;34m)\u001b[0m\u001b[0;34m\u001b[0m\u001b[0m\n\u001b[0m\u001b[1;32m    943\u001b[0m         \u001b[0;32mtry\u001b[0m\u001b[0;34m:\u001b[0m\u001b[0;34m\u001b[0m\u001b[0m\n\u001b[1;32m    944\u001b[0m             \u001b[0mmeth\u001b[0m \u001b[0;34m=\u001b[0m \u001b[0mobject\u001b[0m\u001b[0;34m.\u001b[0m\u001b[0m_execute_on_connection\u001b[0m\u001b[0;34m\u001b[0m\u001b[0m\n",
      "\u001b[0;32m/srv/paws/lib/python3.6/site-packages/sqlalchemy/engine/base.py\u001b[0m in \u001b[0;36m_execute_text\u001b[0;34m(self, statement, multiparams, params)\u001b[0m\n\u001b[1;32m   1102\u001b[0m             \u001b[0mstatement\u001b[0m\u001b[0;34m,\u001b[0m\u001b[0;34m\u001b[0m\u001b[0m\n\u001b[1;32m   1103\u001b[0m             \u001b[0mparameters\u001b[0m\u001b[0;34m,\u001b[0m\u001b[0;34m\u001b[0m\u001b[0m\n\u001b[0;32m-> 1104\u001b[0;31m             \u001b[0mstatement\u001b[0m\u001b[0;34m,\u001b[0m \u001b[0mparameters\u001b[0m\u001b[0;34m\u001b[0m\u001b[0m\n\u001b[0m\u001b[1;32m   1105\u001b[0m         )\n\u001b[1;32m   1106\u001b[0m         \u001b[0;32mif\u001b[0m \u001b[0mself\u001b[0m\u001b[0;34m.\u001b[0m\u001b[0m_has_events\u001b[0m \u001b[0;32mor\u001b[0m \u001b[0mself\u001b[0m\u001b[0;34m.\u001b[0m\u001b[0mengine\u001b[0m\u001b[0;34m.\u001b[0m\u001b[0m_has_events\u001b[0m\u001b[0;34m:\u001b[0m\u001b[0;34m\u001b[0m\u001b[0m\n",
      "\u001b[0;32m/srv/paws/lib/python3.6/site-packages/sqlalchemy/engine/base.py\u001b[0m in \u001b[0;36m_execute_context\u001b[0;34m(self, dialect, constructor, statement, parameters, *args)\u001b[0m\n\u001b[1;32m   1198\u001b[0m                 \u001b[0mparameters\u001b[0m\u001b[0;34m,\u001b[0m\u001b[0;34m\u001b[0m\u001b[0m\n\u001b[1;32m   1199\u001b[0m                 \u001b[0mcursor\u001b[0m\u001b[0;34m,\u001b[0m\u001b[0;34m\u001b[0m\u001b[0m\n\u001b[0;32m-> 1200\u001b[0;31m                 context)\n\u001b[0m\u001b[1;32m   1201\u001b[0m \u001b[0;34m\u001b[0m\u001b[0m\n\u001b[1;32m   1202\u001b[0m         \u001b[0;32mif\u001b[0m \u001b[0mself\u001b[0m\u001b[0;34m.\u001b[0m\u001b[0m_has_events\u001b[0m \u001b[0;32mor\u001b[0m \u001b[0mself\u001b[0m\u001b[0;34m.\u001b[0m\u001b[0mengine\u001b[0m\u001b[0;34m.\u001b[0m\u001b[0m_has_events\u001b[0m\u001b[0;34m:\u001b[0m\u001b[0;34m\u001b[0m\u001b[0m\n",
      "\u001b[0;32m/srv/paws/lib/python3.6/site-packages/sqlalchemy/engine/base.py\u001b[0m in \u001b[0;36m_handle_dbapi_exception\u001b[0;34m(self, e, statement, parameters, cursor, context)\u001b[0m\n\u001b[1;32m   1414\u001b[0m                 )\n\u001b[1;32m   1415\u001b[0m             \u001b[0;32melse\u001b[0m\u001b[0;34m:\u001b[0m\u001b[0;34m\u001b[0m\u001b[0m\n\u001b[0;32m-> 1416\u001b[0;31m                 \u001b[0mutil\u001b[0m\u001b[0;34m.\u001b[0m\u001b[0mreraise\u001b[0m\u001b[0;34m(\u001b[0m\u001b[0;34m*\u001b[0m\u001b[0mexc_info\u001b[0m\u001b[0;34m)\u001b[0m\u001b[0;34m\u001b[0m\u001b[0m\n\u001b[0m\u001b[1;32m   1417\u001b[0m \u001b[0;34m\u001b[0m\u001b[0m\n\u001b[1;32m   1418\u001b[0m         \u001b[0;32mfinally\u001b[0m\u001b[0;34m:\u001b[0m\u001b[0;34m\u001b[0m\u001b[0m\n",
      "\u001b[0;32m/srv/paws/lib/python3.6/site-packages/sqlalchemy/util/compat.py\u001b[0m in \u001b[0;36mreraise\u001b[0;34m(tp, value, tb, cause)\u001b[0m\n\u001b[1;32m    185\u001b[0m         \u001b[0;32mif\u001b[0m \u001b[0mvalue\u001b[0m\u001b[0;34m.\u001b[0m\u001b[0m__traceback__\u001b[0m \u001b[0;32mis\u001b[0m \u001b[0;32mnot\u001b[0m \u001b[0mtb\u001b[0m\u001b[0;34m:\u001b[0m\u001b[0;34m\u001b[0m\u001b[0m\n\u001b[1;32m    186\u001b[0m             \u001b[0;32mraise\u001b[0m \u001b[0mvalue\u001b[0m\u001b[0;34m.\u001b[0m\u001b[0mwith_traceback\u001b[0m\u001b[0;34m(\u001b[0m\u001b[0mtb\u001b[0m\u001b[0;34m)\u001b[0m\u001b[0;34m\u001b[0m\u001b[0m\n\u001b[0;32m--> 187\u001b[0;31m         \u001b[0;32mraise\u001b[0m \u001b[0mvalue\u001b[0m\u001b[0;34m\u001b[0m\u001b[0m\n\u001b[0m\u001b[1;32m    188\u001b[0m \u001b[0;34m\u001b[0m\u001b[0m\n\u001b[1;32m    189\u001b[0m \u001b[0;32melse\u001b[0m\u001b[0;34m:\u001b[0m\u001b[0;34m\u001b[0m\u001b[0m\n",
      "\u001b[0;32m/srv/paws/lib/python3.6/site-packages/sqlalchemy/engine/base.py\u001b[0m in \u001b[0;36m_execute_context\u001b[0;34m(self, dialect, constructor, statement, parameters, *args)\u001b[0m\n\u001b[1;32m   1191\u001b[0m                         \u001b[0mstatement\u001b[0m\u001b[0;34m,\u001b[0m\u001b[0;34m\u001b[0m\u001b[0m\n\u001b[1;32m   1192\u001b[0m                         \u001b[0mparameters\u001b[0m\u001b[0;34m,\u001b[0m\u001b[0;34m\u001b[0m\u001b[0m\n\u001b[0;32m-> 1193\u001b[0;31m                         context)\n\u001b[0m\u001b[1;32m   1194\u001b[0m         \u001b[0;32mexcept\u001b[0m \u001b[0mBaseException\u001b[0m \u001b[0;32mas\u001b[0m \u001b[0me\u001b[0m\u001b[0;34m:\u001b[0m\u001b[0;34m\u001b[0m\u001b[0m\n\u001b[1;32m   1195\u001b[0m             self._handle_dbapi_exception(\n",
      "\u001b[0;32m/srv/paws/lib/python3.6/site-packages/sqlalchemy/engine/default.py\u001b[0m in \u001b[0;36mdo_execute\u001b[0;34m(self, cursor, statement, parameters, context)\u001b[0m\n\u001b[1;32m    506\u001b[0m \u001b[0;34m\u001b[0m\u001b[0m\n\u001b[1;32m    507\u001b[0m     \u001b[0;32mdef\u001b[0m \u001b[0mdo_execute\u001b[0m\u001b[0;34m(\u001b[0m\u001b[0mself\u001b[0m\u001b[0;34m,\u001b[0m \u001b[0mcursor\u001b[0m\u001b[0;34m,\u001b[0m \u001b[0mstatement\u001b[0m\u001b[0;34m,\u001b[0m \u001b[0mparameters\u001b[0m\u001b[0;34m,\u001b[0m \u001b[0mcontext\u001b[0m\u001b[0;34m=\u001b[0m\u001b[0;32mNone\u001b[0m\u001b[0;34m)\u001b[0m\u001b[0;34m:\u001b[0m\u001b[0;34m\u001b[0m\u001b[0m\n\u001b[0;32m--> 508\u001b[0;31m         \u001b[0mcursor\u001b[0m\u001b[0;34m.\u001b[0m\u001b[0mexecute\u001b[0m\u001b[0;34m(\u001b[0m\u001b[0mstatement\u001b[0m\u001b[0;34m,\u001b[0m \u001b[0mparameters\u001b[0m\u001b[0;34m)\u001b[0m\u001b[0;34m\u001b[0m\u001b[0m\n\u001b[0m\u001b[1;32m    509\u001b[0m \u001b[0;34m\u001b[0m\u001b[0m\n\u001b[1;32m    510\u001b[0m     \u001b[0;32mdef\u001b[0m \u001b[0mdo_execute_no_params\u001b[0m\u001b[0;34m(\u001b[0m\u001b[0mself\u001b[0m\u001b[0;34m,\u001b[0m \u001b[0mcursor\u001b[0m\u001b[0;34m,\u001b[0m \u001b[0mstatement\u001b[0m\u001b[0;34m,\u001b[0m \u001b[0mcontext\u001b[0m\u001b[0;34m=\u001b[0m\u001b[0;32mNone\u001b[0m\u001b[0;34m)\u001b[0m\u001b[0;34m:\u001b[0m\u001b[0;34m\u001b[0m\u001b[0m\n",
      "\u001b[0;32m/srv/paws/lib/python3.6/site-packages/pymysql/cursors.py\u001b[0m in \u001b[0;36mexecute\u001b[0;34m(self, query, args)\u001b[0m\n\u001b[1;32m    168\u001b[0m         \u001b[0mquery\u001b[0m \u001b[0;34m=\u001b[0m \u001b[0mself\u001b[0m\u001b[0;34m.\u001b[0m\u001b[0mmogrify\u001b[0m\u001b[0;34m(\u001b[0m\u001b[0mquery\u001b[0m\u001b[0;34m,\u001b[0m \u001b[0margs\u001b[0m\u001b[0;34m)\u001b[0m\u001b[0;34m\u001b[0m\u001b[0m\n\u001b[1;32m    169\u001b[0m \u001b[0;34m\u001b[0m\u001b[0m\n\u001b[0;32m--> 170\u001b[0;31m         \u001b[0mresult\u001b[0m \u001b[0;34m=\u001b[0m \u001b[0mself\u001b[0m\u001b[0;34m.\u001b[0m\u001b[0m_query\u001b[0m\u001b[0;34m(\u001b[0m\u001b[0mquery\u001b[0m\u001b[0;34m)\u001b[0m\u001b[0;34m\u001b[0m\u001b[0m\n\u001b[0m\u001b[1;32m    171\u001b[0m         \u001b[0mself\u001b[0m\u001b[0;34m.\u001b[0m\u001b[0m_executed\u001b[0m \u001b[0;34m=\u001b[0m \u001b[0mquery\u001b[0m\u001b[0;34m\u001b[0m\u001b[0m\n\u001b[1;32m    172\u001b[0m         \u001b[0;32mreturn\u001b[0m \u001b[0mresult\u001b[0m\u001b[0;34m\u001b[0m\u001b[0m\n",
      "\u001b[0;32m/srv/paws/lib/python3.6/site-packages/pymysql/cursors.py\u001b[0m in \u001b[0;36m_query\u001b[0;34m(self, q)\u001b[0m\n\u001b[1;32m    326\u001b[0m         \u001b[0mself\u001b[0m\u001b[0;34m.\u001b[0m\u001b[0m_last_executed\u001b[0m \u001b[0;34m=\u001b[0m \u001b[0mq\u001b[0m\u001b[0;34m\u001b[0m\u001b[0m\n\u001b[1;32m    327\u001b[0m         \u001b[0mself\u001b[0m\u001b[0;34m.\u001b[0m\u001b[0m_clear_result\u001b[0m\u001b[0;34m(\u001b[0m\u001b[0;34m)\u001b[0m\u001b[0;34m\u001b[0m\u001b[0m\n\u001b[0;32m--> 328\u001b[0;31m         \u001b[0mconn\u001b[0m\u001b[0;34m.\u001b[0m\u001b[0mquery\u001b[0m\u001b[0;34m(\u001b[0m\u001b[0mq\u001b[0m\u001b[0;34m)\u001b[0m\u001b[0;34m\u001b[0m\u001b[0m\n\u001b[0m\u001b[1;32m    329\u001b[0m         \u001b[0mself\u001b[0m\u001b[0;34m.\u001b[0m\u001b[0m_do_get_result\u001b[0m\u001b[0;34m(\u001b[0m\u001b[0;34m)\u001b[0m\u001b[0;34m\u001b[0m\u001b[0m\n\u001b[1;32m    330\u001b[0m         \u001b[0;32mreturn\u001b[0m \u001b[0mself\u001b[0m\u001b[0;34m.\u001b[0m\u001b[0mrowcount\u001b[0m\u001b[0;34m\u001b[0m\u001b[0m\n",
      "\u001b[0;32m/srv/paws/lib/python3.6/site-packages/pymysql/connections.py\u001b[0m in \u001b[0;36mquery\u001b[0;34m(self, sql, unbuffered)\u001b[0m\n\u001b[1;32m    889\u001b[0m                 \u001b[0msql\u001b[0m \u001b[0;34m=\u001b[0m \u001b[0msql\u001b[0m\u001b[0;34m.\u001b[0m\u001b[0mencode\u001b[0m\u001b[0;34m(\u001b[0m\u001b[0mself\u001b[0m\u001b[0;34m.\u001b[0m\u001b[0mencoding\u001b[0m\u001b[0;34m)\u001b[0m\u001b[0;34m\u001b[0m\u001b[0m\n\u001b[1;32m    890\u001b[0m             \u001b[0;32melse\u001b[0m\u001b[0;34m:\u001b[0m\u001b[0;34m\u001b[0m\u001b[0m\n\u001b[0;32m--> 891\u001b[0;31m                 \u001b[0msql\u001b[0m \u001b[0;34m=\u001b[0m \u001b[0msql\u001b[0m\u001b[0;34m.\u001b[0m\u001b[0mencode\u001b[0m\u001b[0;34m(\u001b[0m\u001b[0mself\u001b[0m\u001b[0;34m.\u001b[0m\u001b[0mencoding\u001b[0m\u001b[0;34m,\u001b[0m \u001b[0;34m'surrogateescape'\u001b[0m\u001b[0;34m)\u001b[0m\u001b[0;34m\u001b[0m\u001b[0m\n\u001b[0m\u001b[1;32m    892\u001b[0m         \u001b[0mself\u001b[0m\u001b[0;34m.\u001b[0m\u001b[0m_execute_command\u001b[0m\u001b[0;34m(\u001b[0m\u001b[0mCOMMAND\u001b[0m\u001b[0;34m.\u001b[0m\u001b[0mCOM_QUERY\u001b[0m\u001b[0;34m,\u001b[0m \u001b[0msql\u001b[0m\u001b[0;34m)\u001b[0m\u001b[0;34m\u001b[0m\u001b[0m\n\u001b[1;32m    893\u001b[0m         \u001b[0mself\u001b[0m\u001b[0;34m.\u001b[0m\u001b[0m_affected_rows\u001b[0m \u001b[0;34m=\u001b[0m \u001b[0mself\u001b[0m\u001b[0;34m.\u001b[0m\u001b[0m_read_query_result\u001b[0m\u001b[0;34m(\u001b[0m\u001b[0munbuffered\u001b[0m\u001b[0;34m=\u001b[0m\u001b[0munbuffered\u001b[0m\u001b[0;34m)\u001b[0m\u001b[0;34m\u001b[0m\u001b[0m\n",
      "\u001b[0;31mUnicodeEncodeError\u001b[0m: 'latin-1' codec can't encode characters in position 52-55: ordinal not in range(256)"
     ]
    }
   ],
   "source": [
    "from sqlalchemy import create_engine\n",
    "import sys, os\n",
    "import pandas as pd\n",
    "\n",
    "constr = 'mysql+pymysql://{user}:{pwd}@{host}'.format(user=os.environ['MYSQL_USERNAME'],\n",
    "                                                      pwd=os.environ['MYSQL_PASSWORD'],\n",
    "                                                      host=os.environ['MYSQL_HOST'])\n",
    "con = create_engine(constr)\n",
    "\n",
    "\n",
    "df = pd.read_sql(q, con)"
   ]
  },
  {
   "cell_type": "code",
   "execution_count": 16,
   "metadata": {},
   "outputs": [],
   "source": [
    "q = \"select * from ukwiki_p.page where page_id = 10577\""
   ]
  },
  {
   "cell_type": "code",
   "execution_count": 25,
   "metadata": {},
   "outputs": [],
   "source": [
    "page_title = df['page_title']"
   ]
  },
  {
   "cell_type": "code",
   "execution_count": 36,
   "metadata": {},
   "outputs": [],
   "source": [
    "test = b'!\\xd0\\xa4\\xd0\\x95\\xd0\\xa1\\xd0\\xa2'"
   ]
  },
  {
   "cell_type": "code",
   "execution_count": 37,
   "metadata": {},
   "outputs": [
    {
     "name": "stdout",
     "output_type": "stream",
     "text": [
      "!ФЕСТ\n"
     ]
    }
   ],
   "source": [
    "print(test.decode(\"utf-8\"))"
   ]
  },
  {
   "cell_type": "code",
   "execution_count": 38,
   "metadata": {},
   "outputs": [
    {
     "name": "stdout",
     "output_type": "stream",
     "text": [
      "SELECT  ips_item_id AS wikidata, ips_site_page AS title FROM wikidatawiki_p.wb_items_per_site WHERE ips_site_id= 'ukwiki' limit 10\n"
     ]
    }
   ],
   "source": [
    "print(q)"
   ]
  },
  {
   "cell_type": "code",
   "execution_count": 88,
   "metadata": {},
   "outputs": [
    {
     "data": {
      "text/html": [
       "<div>\n",
       "<style scoped>\n",
       "    .dataframe tbody tr th:only-of-type {\n",
       "        vertical-align: middle;\n",
       "    }\n",
       "\n",
       "    .dataframe tbody tr th {\n",
       "        vertical-align: top;\n",
       "    }\n",
       "\n",
       "    .dataframe thead th {\n",
       "        text-align: right;\n",
       "    }\n",
       "</style>\n",
       "<table border=\"1\" class=\"dataframe\">\n",
       "  <thead>\n",
       "    <tr style=\"text-align: right;\">\n",
       "      <th></th>\n",
       "      <th>pl_from</th>\n",
       "      <th>pl_namespace</th>\n",
       "      <th>pl_title</th>\n",
       "      <th>pl_from_namespace</th>\n",
       "    </tr>\n",
       "  </thead>\n",
       "  <tbody>\n",
       "    <tr>\n",
       "      <th>0</th>\n",
       "      <td>154231</td>\n",
       "      <td>0</td>\n",
       "      <td>b'!Action_Pact!'</td>\n",
       "      <td>0</td>\n",
       "    </tr>\n",
       "    <tr>\n",
       "      <th>1</th>\n",
       "      <td>243805</td>\n",
       "      <td>0</td>\n",
       "      <td>b'!Action_Pact!'</td>\n",
       "      <td>0</td>\n",
       "    </tr>\n",
       "    <tr>\n",
       "      <th>2</th>\n",
       "      <td>1366003</td>\n",
       "      <td>0</td>\n",
       "      <td>b'!Action_Pact!'</td>\n",
       "      <td>0</td>\n",
       "    </tr>\n",
       "    <tr>\n",
       "      <th>3</th>\n",
       "      <td>1767358</td>\n",
       "      <td>0</td>\n",
       "      <td>b'!Action_Pact!'</td>\n",
       "      <td>0</td>\n",
       "    </tr>\n",
       "  </tbody>\n",
       "</table>\n",
       "</div>"
      ],
      "text/plain": [
       "   pl_from  pl_namespace          pl_title  pl_from_namespace\n",
       "0   154231             0  b'!Action_Pact!'                  0\n",
       "1   243805             0  b'!Action_Pact!'                  0\n",
       "2  1366003             0  b'!Action_Pact!'                  0\n",
       "3  1767358             0  b'!Action_Pact!'                  0"
      ]
     },
     "execution_count": 88,
     "metadata": {},
     "output_type": "execute_result"
    }
   ],
   "source": [
    "df"
   ]
  },
  {
   "cell_type": "code",
   "execution_count": 31,
   "metadata": {},
   "outputs": [
    {
     "name": "stdout",
     "output_type": "stream",
     "text": [
      "0    b'\\xd0\\xa7\\xd0\\xb5\\xd1\\x85\\xd1\\x96\\xd0\\xb2\\xd1...\n",
      "Name: page_title, dtype: object\n"
     ]
    }
   ],
   "source": [
    "print(page_title)"
   ]
  },
  {
   "cell_type": "code",
   "execution_count": 33,
   "metadata": {},
   "outputs": [],
   "source": [
    "q = \"SELECT  ips_item_id AS wikidata, ips_site_page AS title FROM wikidatawiki_p.wb_items_per_site WHERE ips_site_id= 'ukwiki' limit 10\""
   ]
  },
  {
   "cell_type": "code",
   "execution_count": 63,
   "metadata": {},
   "outputs": [],
   "source": [
    "title = b'!\\xd0\\xa4\\xd0\\x95\\xd0\\xa1\\xd0\\xa2'"
   ]
  },
  {
   "cell_type": "code",
   "execution_count": 65,
   "metadata": {},
   "outputs": [],
   "source": [
    "q = 'SELECT COUNT(pl_from), pl_title\\\n",
    "FROM ukwiki_p.pagelinks\\\n",
    "WHERE pl_title = '+str(title)+'group by pl_title'"
   ]
  },
  {
   "cell_type": "code",
   "execution_count": 55,
   "metadata": {},
   "outputs": [],
   "source": [
    "from urllib.parse   import quote"
   ]
  },
  {
   "cell_type": "code",
   "execution_count": 1,
   "metadata": {},
   "outputs": [],
   "source": [
    "title = \"!Фест\""
   ]
  },
  {
   "cell_type": "code",
   "execution_count": 66,
   "metadata": {},
   "outputs": [
    {
     "name": "stdout",
     "output_type": "stream",
     "text": [
      "SELECT COUNT(pl_from), pl_titleFROM ukwiki_p.pagelinksWHERE pl_title = b'!\\xd0\\xa4\\xd0\\x95\\xd0\\xa1\\xd0\\xa2'group by pl_title\n"
     ]
    }
   ],
   "source": [
    "print(q)"
   ]
  },
  {
   "cell_type": "code",
   "execution_count": 84,
   "metadata": {},
   "outputs": [],
   "source": [
    "title = \"!Action_Pact!\""
   ]
  },
  {
   "cell_type": "code",
   "execution_count": 2,
   "metadata": {},
   "outputs": [],
   "source": [
    "q = 'SELECT * \\\n",
    "FROM ukwiki_p.pagelinks WHERE pl_title = \"'+title+'\" limit 20'"
   ]
  },
  {
   "cell_type": "code",
   "execution_count": 76,
   "metadata": {},
   "outputs": [
    {
     "name": "stdout",
     "output_type": "stream",
     "text": [
      "b'!Action_Pact!'\n"
     ]
    }
   ],
   "source": [
    "print(title)"
   ]
  },
  {
   "cell_type": "code",
   "execution_count": 86,
   "metadata": {},
   "outputs": [
    {
     "name": "stdout",
     "output_type": "stream",
     "text": [
      "SELECT * FROM ukwiki_p.pagelinks WHERE pl_title = \"!Action_Pact!\" limit 20\n"
     ]
    }
   ],
   "source": [
    "print(q)"
   ]
  },
  {
   "cell_type": "code",
   "execution_count": null,
   "metadata": {},
   "outputs": [],
   "source": []
  },
  {
   "cell_type": "code",
   "execution_count": null,
   "metadata": {},
   "outputs": [],
   "source": []
  },
  {
   "cell_type": "code",
   "execution_count": null,
   "metadata": {},
   "outputs": [],
   "source": []
  },
  {
   "cell_type": "code",
   "execution_count": 4,
   "metadata": {},
   "outputs": [],
   "source": [
    "from sqlalchemy import create_engine\n",
    "import sys, os\n",
    "import pandas as pd\n",
    "\n",
    "constr = 'mysql+pymysql://{user}:{pwd}@{host}'.format(user=os.environ['MYSQL_USERNAME'],\n",
    "                                                      pwd=os.environ['MYSQL_PASSWORD'],\n",
    "                                                      host=os.environ['MYSQL_HOST'])\n",
    "con = create_engine(constr)"
   ]
  },
  {
   "cell_type": "code",
   "execution_count": 10,
   "metadata": {},
   "outputs": [],
   "source": [
    "q = \"SELECT  count(* FROM wikidatawiki_p.wb_items_per_site WHERE ips_item_id = 4027682 \""
   ]
  },
  {
   "cell_type": "code",
   "execution_count": null,
   "metadata": {},
   "outputs": [],
   "source": [
    "q = \"SELECT  count(*), ips_item_id FROM wikidatawiki_p.wb_items_per_site GROUP BY ips_item_id\""
   ]
  },
  {
   "cell_type": "code",
   "execution_count": 20,
   "metadata": {},
   "outputs": [],
   "source": [
    "q = \"SELECT  \\\n",
    "    Main.ips_item_id AS wikidata, \\\n",
    "    Main.ips_site_page AS title, \\\n",
    "    Lang.lang_count \\\n",
    "FROM wikidatawiki_p.wb_items_per_site Main \\\n",
    "LEFT JOIN ( \\\n",
    "\tSELECT  \\\n",
    "\t\tcount(*) as lang_count, \\\n",
    "\t\tips_item_id \\\n",
    "\tFROM wikidatawiki_p.wb_items_per_site \\\n",
    "\tGROUP BY ips_item_id \\\n",
    ") Lang \\\n",
    "ON Lang.ips_item_id = Main.ips_item_id \\\n",
    "WHERE Main.ips_site_id= 'ukwiki'\""
   ]
  },
  {
   "cell_type": "code",
   "execution_count": 21,
   "metadata": {},
   "outputs": [],
   "source": [
    "df = pd.read_sql(q, con)"
   ]
  },
  {
   "cell_type": "code",
   "execution_count": null,
   "metadata": {},
   "outputs": [],
   "source": [
    "df"
   ]
  },
  {
   "cell_type": "code",
   "execution_count": 2,
   "metadata": {},
   "outputs": [
    {
     "ename": "NameError",
     "evalue": "name 'permutations' is not defined",
     "output_type": "error",
     "traceback": [
      "\u001b[0;31m---------------------------------------------------------------------------\u001b[0m",
      "\u001b[0;31mNameError\u001b[0m                                 Traceback (most recent call last)",
      "\u001b[0;32m<ipython-input-2-6a46d1ef3fa0>\u001b[0m in \u001b[0;36m<module>\u001b[0;34m()\u001b[0m\n\u001b[1;32m      1\u001b[0m \u001b[0msersCx\u001b[0m \u001b[0;34m=\u001b[0m \u001b[0;34m[\u001b[0m\u001b[0;34m]\u001b[0m\u001b[0;34m\u001b[0m\u001b[0m\n\u001b[0;32m----> 2\u001b[0;31m \u001b[0;32mfor\u001b[0m \u001b[0mlang1\u001b[0m\u001b[0;34m,\u001b[0m\u001b[0mlang2\u001b[0m \u001b[0;32min\u001b[0m \u001b[0mpermutations\u001b[0m\u001b[0;34m(\u001b[0m\u001b[0mlangs\u001b[0m\u001b[0;34m,\u001b[0m\u001b[0;36m2\u001b[0m\u001b[0;34m)\u001b[0m\u001b[0;34m:\u001b[0m\u001b[0;34m\u001b[0m\u001b[0m\n\u001b[0m\u001b[1;32m      3\u001b[0m     query = \"\"\"\n\u001b[1;32m      4\u001b[0m     \u001b[0mSELECT\u001b[0m \u001b[0mtrans\u001b[0m\u001b[0;34m.\u001b[0m\u001b[0mcnt\u001b[0m \u001b[0;32mas\u001b[0m \u001b[0mcnt\u001b[0m \u001b[0;34m,\u001b[0m\u001b[0;32mglobal\u001b[0m\u001b[0;34m.\u001b[0m\u001b[0mgu_id\u001b[0m\u001b[0;34m,\u001b[0m\u001b[0;32mglobal\u001b[0m\u001b[0;34m.\u001b[0m\u001b[0mgu_name\u001b[0m \u001b[0;32mas\u001b[0m \u001b[0musername\u001b[0m \u001b[0mFROM\u001b[0m \u001b[0;34m(\u001b[0m\u001b[0mSELECT\u001b[0m \u001b[0mtranslation_started_by\u001b[0m\u001b[0;34m,\u001b[0m  \u001b[0mcount\u001b[0m\u001b[0;34m(\u001b[0m\u001b[0mtranslation_target_title\u001b[0m\u001b[0;34m)\u001b[0m \u001b[0;32mas\u001b[0m \u001b[0mcnt\u001b[0m \u001b[0mFROM\u001b[0m \u001b[0mcx_translations\u001b[0m \u001b[0mWHERE\u001b[0m \u001b[0;34m(\u001b[0m\u001b[0mtranslation_status\u001b[0m \u001b[0;34m=\u001b[0m \u001b[0;34m'published'\u001b[0m \u001b[0mOR\u001b[0m \u001b[0mtranslation_target_url\u001b[0m \u001b[0mIS\u001b[0m \u001b[0mNOT\u001b[0m \u001b[0mnull\u001b[0m\u001b[0;34m)\u001b[0m \u001b[0mAND\u001b[0m  \u001b[0mtranslation_target_language\u001b[0m \u001b[0;34m=\u001b[0m \u001b[0;34m'%s'\u001b[0m \u001b[0mAND\u001b[0m \u001b[0mtranslation_source_language\u001b[0m\u001b[0;34m=\u001b[0m\u001b[0;34m'%s'\u001b[0m \u001b[0mGROUP\u001b[0m \u001b[0mBY\u001b[0m \u001b[0mtranslation_started_by\u001b[0m \u001b[0mORDER\u001b[0m \u001b[0mBY\u001b[0m \u001b[0mcount\u001b[0m\u001b[0;34m(\u001b[0m\u001b[0mtranslation_target_title\u001b[0m\u001b[0;34m)\u001b[0m \u001b[0mDESC\u001b[0m \u001b[0mLIMIT\u001b[0m \u001b[0;36m5\u001b[0m\u001b[0;34m)\u001b[0m \u001b[0mAS\u001b[0m \u001b[0mtrans\u001b[0m \u001b[0mINNER\u001b[0m \u001b[0mJOIN\u001b[0m \u001b[0mcentralauth\u001b[0m\u001b[0;34m.\u001b[0m\u001b[0mglobaluser\u001b[0m \u001b[0;32mas\u001b[0m \u001b[0;32mglobal\u001b[0m \u001b[0mON\u001b[0m \u001b[0;32mglobal\u001b[0m\u001b[0;34m.\u001b[0m\u001b[0mgu_id\u001b[0m \u001b[0;34m=\u001b[0m \u001b[0mtrans\u001b[0m\u001b[0;34m.\u001b[0m\u001b[0mtranslation_started_by\u001b[0m \u001b[0mWHERE\u001b[0m \u001b[0mcnt\u001b[0m \u001b[0;34m>\u001b[0m\u001b[0;36m10\u001b[0m\u001b[0;34m;\u001b[0m\u001b[0;34m\u001b[0m\u001b[0m\n\u001b[1;32m      5\u001b[0m     \"\"\" % (lang1,lang2)\n",
      "\u001b[0;31mNameError\u001b[0m: name 'permutations' is not defined"
     ]
    }
   ],
   "source": [
    "sersCx = []\n",
    "for lang1,lang2 in permutations(langs,2):\n",
    "    query = \"\"\"\n",
    "    SELECT trans.cnt as cnt ,global.gu_id,global.gu_name as username FROM (SELECT translation_started_by,  count(translation_target_title) as cnt FROM cx_translations WHERE (translation_status = 'published' OR translation_target_url IS NOT null) AND  translation_target_language = '%s' AND translation_source_language='%s' GROUP BY translation_started_by ORDER BY count(translation_target_title) DESC LIMIT 5) AS trans INNER JOIN centralauth.globaluser as global ON global.gu_id = trans.translation_started_by WHERE cnt >10;\n",
    "    \"\"\" % (lang1,lang2)\n",
    "    tmp = pd.read_sql_query(query,engine)\n",
    "    tmp['lang1'] = lang1\n",
    "    tmp['lang2'] = lang2\n",
    "    tmp['username'] = tmp.username.str.decode(\"utf-8\")\n",
    "    tmp['Translations'] = tmp.cnt\n",
    "    usersCx.append(tmp[['username','lang1','lang2','Translations']][0:5])\n",
    "outputCx= pd.concat(usersCx)"
   ]
  },
  {
   "cell_type": "code",
   "execution_count": null,
   "metadata": {},
   "outputs": [],
   "source": []
  }
 ],
 "metadata": {
  "kernelspec": {
   "display_name": "Python 3",
   "language": "python",
   "name": "python3"
  },
  "language_info": {
   "codemirror_mode": {
    "name": "ipython",
    "version": 3
   },
   "file_extension": ".py",
   "mimetype": "text/x-python",
   "name": "python",
   "nbconvert_exporter": "python",
   "pygments_lexer": "ipython3",
   "version": "3.5.2"
  }
 },
 "nbformat": 4,
 "nbformat_minor": 2
}

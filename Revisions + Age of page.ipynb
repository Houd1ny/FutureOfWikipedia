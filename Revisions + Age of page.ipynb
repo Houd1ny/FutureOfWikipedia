{
 "cells": [
  {
   "cell_type": "code",
   "execution_count": null,
   "metadata": {},
   "outputs": [],
   "source": [
    "import urllib\n",
    "import requests\n",
    "import json\n",
    "\n",
    "from urllib.parse import quote, urlencode\n",
    "from datetime import datetime, date\n",
    "HOST = \"https://uk.wikipedia.org/w/api.php\"\n",
    "\n",
    "def GetRevisions(pageTitle, timestamp):\n",
    "    params = {}\n",
    "    params[\"action\"] = \"query\"\n",
    "    params[\"format\"] = \"json\"\n",
    "    params[\"prop\"] = \"revisions\"\n",
    "    params[\"rvlimit\"] = \"1000\"\n",
    "    params[\"rvstart\"] = timestamp #It goes down\n",
    "    #params[\"rvend\"] = timestamp\n",
    "    users = []\n",
    "    revs = []\n",
    "    \n",
    "    while True:\n",
    "        response = urllib.request.urlopen(HOST + \"?\" + urlencode(params) + \"&titles=\" + quote(pageTitle)).read().decode('utf-8')\n",
    "        dataJson = json.loads(response)\n",
    "        pages = dataJson[\"query\"][\"pages\"]\n",
    "        key = list(pages.keys())[0]\n",
    "        revisions = pages[key]['revisions']\n",
    "        users = users + [rev[\"user\"] for rev in revisions]\n",
    "        revs = revs + [rev for rev in revisions]\n",
    "        \n",
    "        if \"continue\" in dataJson.keys():\n",
    "            cont = dataJson[\"continue\"][\"rvcontinue\"]\n",
    "            params[\"rvcontinue\"] = cont\n",
    "        else:\n",
    "            break\n",
    "    last_revision = revs[-1]\n",
    "    page_born = datetime.strptime(last_revision['timestamp'], '%Y-%m-%dT%H:%M:%SZ')\n",
    "    today = datetime.today()\n",
    "    delta = today - page_born\n",
    "    return users, delta.days\n",
    "        \n",
    "    \n",
    "    \n",
    "    "
   ]
  },
  {
   "cell_type": "code",
   "execution_count": null,
   "metadata": {},
   "outputs": [],
   "source": [
    "users_updated, age_of_page_days = GetRevisions(\"Львів\")\n",
    "\n",
    "print(len(users_updated))\n",
    "print(len(set(users_updated)))\n",
    "print(age_of_page_days)"
   ]
  },
  {
   "cell_type": "code",
   "execution_count": null,
   "metadata": {},
   "outputs": [],
   "source": [
    "users_updated, age_of_page_days = GetRevisions(\"Львів\",\"2018-01-15T14:56:00Z\")\n",
    "revisions = len(users_updated)\n",
    "contributors = len(set(users_updated))\n",
    "\n",
    "print(\"Revisions: \".format(revisions))\n",
    "print(\"contributors)\n",
    "print(age_of_page_days)"
   ]
  },
  {
   "cell_type": "code",
   "execution_count": null,
   "metadata": {},
   "outputs": [],
   "source": []
  }
 ],
 "metadata": {
  "kernelspec": {
   "display_name": "Python 3",
   "language": "python",
   "name": "python3"
  },
  "language_info": {
   "codemirror_mode": {
    "name": "ipython",
    "version": 3
   },
   "file_extension": ".py",
   "mimetype": "text/x-python",
   "name": "python",
   "nbconvert_exporter": "python",
   "pygments_lexer": "ipython3",
   "version": "3.6.4"
  }
 },
 "nbformat": 4,
 "nbformat_minor": 2
}
